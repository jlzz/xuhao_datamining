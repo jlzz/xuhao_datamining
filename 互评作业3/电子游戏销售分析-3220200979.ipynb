{
 "cells": [
  {
   "cell_type": "code",
   "execution_count": 1,
   "metadata": {},
   "outputs": [],
   "source": [
    "import pandas as pd\n",
    "import numpy as np\n",
    "import os\n",
    "import matplotlib.pyplot as plt\n",
    "from collections import Counter\n",
    "from statsmodels.formula.api import ols"
   ]
  },
  {
   "cell_type": "markdown",
   "metadata": {},
   "source": [
    "读取并查看数据的基本信息"
   ]
  },
  {
   "cell_type": "code",
   "execution_count": 2,
   "metadata": {},
   "outputs": [
    {
     "name": "stdout",
     "output_type": "stream",
     "text": [
      "<class 'pandas.core.frame.DataFrame'>\n",
      "RangeIndex: 16598 entries, 0 to 16597\n",
      "Data columns (total 11 columns):\n",
      " #   Column        Non-Null Count  Dtype  \n",
      "---  ------        --------------  -----  \n",
      " 0   Rank          16598 non-null  int64  \n",
      " 1   Name          16598 non-null  object \n",
      " 2   Platform      16598 non-null  object \n",
      " 3   Year          16327 non-null  float64\n",
      " 4   Genre         16598 non-null  object \n",
      " 5   Publisher     16540 non-null  object \n",
      " 6   NA_Sales      16598 non-null  float64\n",
      " 7   EU_Sales      16598 non-null  float64\n",
      " 8   JP_Sales      16598 non-null  float64\n",
      " 9   Other_Sales   16598 non-null  float64\n",
      " 10  Global_Sales  16598 non-null  float64\n",
      "dtypes: float64(6), int64(1), object(4)\n",
      "memory usage: 1.4+ MB\n",
      "None\n"
     ]
    },
    {
     "data": {
      "text/html": [
       "<div>\n",
       "<style scoped>\n",
       "    .dataframe tbody tr th:only-of-type {\n",
       "        vertical-align: middle;\n",
       "    }\n",
       "\n",
       "    .dataframe tbody tr th {\n",
       "        vertical-align: top;\n",
       "    }\n",
       "\n",
       "    .dataframe thead th {\n",
       "        text-align: right;\n",
       "    }\n",
       "</style>\n",
       "<table border=\"1\" class=\"dataframe\">\n",
       "  <thead>\n",
       "    <tr style=\"text-align: right;\">\n",
       "      <th></th>\n",
       "      <th>Rank</th>\n",
       "      <th>Name</th>\n",
       "      <th>Platform</th>\n",
       "      <th>Year</th>\n",
       "      <th>Genre</th>\n",
       "      <th>Publisher</th>\n",
       "      <th>NA_Sales</th>\n",
       "      <th>EU_Sales</th>\n",
       "      <th>JP_Sales</th>\n",
       "      <th>Other_Sales</th>\n",
       "      <th>Global_Sales</th>\n",
       "    </tr>\n",
       "  </thead>\n",
       "  <tbody>\n",
       "    <tr>\n",
       "      <th>0</th>\n",
       "      <td>1</td>\n",
       "      <td>Wii Sports</td>\n",
       "      <td>Wii</td>\n",
       "      <td>2006.0</td>\n",
       "      <td>Sports</td>\n",
       "      <td>Nintendo</td>\n",
       "      <td>41.49</td>\n",
       "      <td>29.02</td>\n",
       "      <td>3.77</td>\n",
       "      <td>8.46</td>\n",
       "      <td>82.74</td>\n",
       "    </tr>\n",
       "    <tr>\n",
       "      <th>1</th>\n",
       "      <td>2</td>\n",
       "      <td>Super Mario Bros.</td>\n",
       "      <td>NES</td>\n",
       "      <td>1985.0</td>\n",
       "      <td>Platform</td>\n",
       "      <td>Nintendo</td>\n",
       "      <td>29.08</td>\n",
       "      <td>3.58</td>\n",
       "      <td>6.81</td>\n",
       "      <td>0.77</td>\n",
       "      <td>40.24</td>\n",
       "    </tr>\n",
       "    <tr>\n",
       "      <th>2</th>\n",
       "      <td>3</td>\n",
       "      <td>Mario Kart Wii</td>\n",
       "      <td>Wii</td>\n",
       "      <td>2008.0</td>\n",
       "      <td>Racing</td>\n",
       "      <td>Nintendo</td>\n",
       "      <td>15.85</td>\n",
       "      <td>12.88</td>\n",
       "      <td>3.79</td>\n",
       "      <td>3.31</td>\n",
       "      <td>35.82</td>\n",
       "    </tr>\n",
       "    <tr>\n",
       "      <th>3</th>\n",
       "      <td>4</td>\n",
       "      <td>Wii Sports Resort</td>\n",
       "      <td>Wii</td>\n",
       "      <td>2009.0</td>\n",
       "      <td>Sports</td>\n",
       "      <td>Nintendo</td>\n",
       "      <td>15.75</td>\n",
       "      <td>11.01</td>\n",
       "      <td>3.28</td>\n",
       "      <td>2.96</td>\n",
       "      <td>33.00</td>\n",
       "    </tr>\n",
       "    <tr>\n",
       "      <th>4</th>\n",
       "      <td>5</td>\n",
       "      <td>Pokemon Red/Pokemon Blue</td>\n",
       "      <td>GB</td>\n",
       "      <td>1996.0</td>\n",
       "      <td>Role-Playing</td>\n",
       "      <td>Nintendo</td>\n",
       "      <td>11.27</td>\n",
       "      <td>8.89</td>\n",
       "      <td>10.22</td>\n",
       "      <td>1.00</td>\n",
       "      <td>31.37</td>\n",
       "    </tr>\n",
       "    <tr>\n",
       "      <th>5</th>\n",
       "      <td>6</td>\n",
       "      <td>Tetris</td>\n",
       "      <td>GB</td>\n",
       "      <td>1989.0</td>\n",
       "      <td>Puzzle</td>\n",
       "      <td>Nintendo</td>\n",
       "      <td>23.20</td>\n",
       "      <td>2.26</td>\n",
       "      <td>4.22</td>\n",
       "      <td>0.58</td>\n",
       "      <td>30.26</td>\n",
       "    </tr>\n",
       "    <tr>\n",
       "      <th>6</th>\n",
       "      <td>7</td>\n",
       "      <td>New Super Mario Bros.</td>\n",
       "      <td>DS</td>\n",
       "      <td>2006.0</td>\n",
       "      <td>Platform</td>\n",
       "      <td>Nintendo</td>\n",
       "      <td>11.38</td>\n",
       "      <td>9.23</td>\n",
       "      <td>6.50</td>\n",
       "      <td>2.90</td>\n",
       "      <td>30.01</td>\n",
       "    </tr>\n",
       "    <tr>\n",
       "      <th>7</th>\n",
       "      <td>8</td>\n",
       "      <td>Wii Play</td>\n",
       "      <td>Wii</td>\n",
       "      <td>2006.0</td>\n",
       "      <td>Misc</td>\n",
       "      <td>Nintendo</td>\n",
       "      <td>14.03</td>\n",
       "      <td>9.20</td>\n",
       "      <td>2.93</td>\n",
       "      <td>2.85</td>\n",
       "      <td>29.02</td>\n",
       "    </tr>\n",
       "    <tr>\n",
       "      <th>8</th>\n",
       "      <td>9</td>\n",
       "      <td>New Super Mario Bros. Wii</td>\n",
       "      <td>Wii</td>\n",
       "      <td>2009.0</td>\n",
       "      <td>Platform</td>\n",
       "      <td>Nintendo</td>\n",
       "      <td>14.59</td>\n",
       "      <td>7.06</td>\n",
       "      <td>4.70</td>\n",
       "      <td>2.26</td>\n",
       "      <td>28.62</td>\n",
       "    </tr>\n",
       "    <tr>\n",
       "      <th>9</th>\n",
       "      <td>10</td>\n",
       "      <td>Duck Hunt</td>\n",
       "      <td>NES</td>\n",
       "      <td>1984.0</td>\n",
       "      <td>Shooter</td>\n",
       "      <td>Nintendo</td>\n",
       "      <td>26.93</td>\n",
       "      <td>0.63</td>\n",
       "      <td>0.28</td>\n",
       "      <td>0.47</td>\n",
       "      <td>28.31</td>\n",
       "    </tr>\n",
       "    <tr>\n",
       "      <th>10</th>\n",
       "      <td>11</td>\n",
       "      <td>Nintendogs</td>\n",
       "      <td>DS</td>\n",
       "      <td>2005.0</td>\n",
       "      <td>Simulation</td>\n",
       "      <td>Nintendo</td>\n",
       "      <td>9.07</td>\n",
       "      <td>11.00</td>\n",
       "      <td>1.93</td>\n",
       "      <td>2.75</td>\n",
       "      <td>24.76</td>\n",
       "    </tr>\n",
       "    <tr>\n",
       "      <th>11</th>\n",
       "      <td>12</td>\n",
       "      <td>Mario Kart DS</td>\n",
       "      <td>DS</td>\n",
       "      <td>2005.0</td>\n",
       "      <td>Racing</td>\n",
       "      <td>Nintendo</td>\n",
       "      <td>9.81</td>\n",
       "      <td>7.57</td>\n",
       "      <td>4.13</td>\n",
       "      <td>1.92</td>\n",
       "      <td>23.42</td>\n",
       "    </tr>\n",
       "    <tr>\n",
       "      <th>12</th>\n",
       "      <td>13</td>\n",
       "      <td>Pokemon Gold/Pokemon Silver</td>\n",
       "      <td>GB</td>\n",
       "      <td>1999.0</td>\n",
       "      <td>Role-Playing</td>\n",
       "      <td>Nintendo</td>\n",
       "      <td>9.00</td>\n",
       "      <td>6.18</td>\n",
       "      <td>7.20</td>\n",
       "      <td>0.71</td>\n",
       "      <td>23.10</td>\n",
       "    </tr>\n",
       "    <tr>\n",
       "      <th>13</th>\n",
       "      <td>14</td>\n",
       "      <td>Wii Fit</td>\n",
       "      <td>Wii</td>\n",
       "      <td>2007.0</td>\n",
       "      <td>Sports</td>\n",
       "      <td>Nintendo</td>\n",
       "      <td>8.94</td>\n",
       "      <td>8.03</td>\n",
       "      <td>3.60</td>\n",
       "      <td>2.15</td>\n",
       "      <td>22.72</td>\n",
       "    </tr>\n",
       "    <tr>\n",
       "      <th>14</th>\n",
       "      <td>15</td>\n",
       "      <td>Wii Fit Plus</td>\n",
       "      <td>Wii</td>\n",
       "      <td>2009.0</td>\n",
       "      <td>Sports</td>\n",
       "      <td>Nintendo</td>\n",
       "      <td>9.09</td>\n",
       "      <td>8.59</td>\n",
       "      <td>2.53</td>\n",
       "      <td>1.79</td>\n",
       "      <td>22.00</td>\n",
       "    </tr>\n",
       "    <tr>\n",
       "      <th>15</th>\n",
       "      <td>16</td>\n",
       "      <td>Kinect Adventures!</td>\n",
       "      <td>X360</td>\n",
       "      <td>2010.0</td>\n",
       "      <td>Misc</td>\n",
       "      <td>Microsoft Game Studios</td>\n",
       "      <td>14.97</td>\n",
       "      <td>4.94</td>\n",
       "      <td>0.24</td>\n",
       "      <td>1.67</td>\n",
       "      <td>21.82</td>\n",
       "    </tr>\n",
       "    <tr>\n",
       "      <th>16</th>\n",
       "      <td>17</td>\n",
       "      <td>Grand Theft Auto V</td>\n",
       "      <td>PS3</td>\n",
       "      <td>2013.0</td>\n",
       "      <td>Action</td>\n",
       "      <td>Take-Two Interactive</td>\n",
       "      <td>7.01</td>\n",
       "      <td>9.27</td>\n",
       "      <td>0.97</td>\n",
       "      <td>4.14</td>\n",
       "      <td>21.40</td>\n",
       "    </tr>\n",
       "    <tr>\n",
       "      <th>17</th>\n",
       "      <td>18</td>\n",
       "      <td>Grand Theft Auto: San Andreas</td>\n",
       "      <td>PS2</td>\n",
       "      <td>2004.0</td>\n",
       "      <td>Action</td>\n",
       "      <td>Take-Two Interactive</td>\n",
       "      <td>9.43</td>\n",
       "      <td>0.40</td>\n",
       "      <td>0.41</td>\n",
       "      <td>10.57</td>\n",
       "      <td>20.81</td>\n",
       "    </tr>\n",
       "    <tr>\n",
       "      <th>18</th>\n",
       "      <td>19</td>\n",
       "      <td>Super Mario World</td>\n",
       "      <td>SNES</td>\n",
       "      <td>1990.0</td>\n",
       "      <td>Platform</td>\n",
       "      <td>Nintendo</td>\n",
       "      <td>12.78</td>\n",
       "      <td>3.75</td>\n",
       "      <td>3.54</td>\n",
       "      <td>0.55</td>\n",
       "      <td>20.61</td>\n",
       "    </tr>\n",
       "    <tr>\n",
       "      <th>19</th>\n",
       "      <td>20</td>\n",
       "      <td>Brain Age: Train Your Brain in Minutes a Day</td>\n",
       "      <td>DS</td>\n",
       "      <td>2005.0</td>\n",
       "      <td>Misc</td>\n",
       "      <td>Nintendo</td>\n",
       "      <td>4.75</td>\n",
       "      <td>9.26</td>\n",
       "      <td>4.16</td>\n",
       "      <td>2.05</td>\n",
       "      <td>20.22</td>\n",
       "    </tr>\n",
       "  </tbody>\n",
       "</table>\n",
       "</div>"
      ],
      "text/plain": [
       "    Rank                                          Name Platform    Year  \\\n",
       "0      1                                    Wii Sports      Wii  2006.0   \n",
       "1      2                             Super Mario Bros.      NES  1985.0   \n",
       "2      3                                Mario Kart Wii      Wii  2008.0   \n",
       "3      4                             Wii Sports Resort      Wii  2009.0   \n",
       "4      5                      Pokemon Red/Pokemon Blue       GB  1996.0   \n",
       "5      6                                        Tetris       GB  1989.0   \n",
       "6      7                         New Super Mario Bros.       DS  2006.0   \n",
       "7      8                                      Wii Play      Wii  2006.0   \n",
       "8      9                     New Super Mario Bros. Wii      Wii  2009.0   \n",
       "9     10                                     Duck Hunt      NES  1984.0   \n",
       "10    11                                    Nintendogs       DS  2005.0   \n",
       "11    12                                 Mario Kart DS       DS  2005.0   \n",
       "12    13                   Pokemon Gold/Pokemon Silver       GB  1999.0   \n",
       "13    14                                       Wii Fit      Wii  2007.0   \n",
       "14    15                                  Wii Fit Plus      Wii  2009.0   \n",
       "15    16                            Kinect Adventures!     X360  2010.0   \n",
       "16    17                            Grand Theft Auto V      PS3  2013.0   \n",
       "17    18                 Grand Theft Auto: San Andreas      PS2  2004.0   \n",
       "18    19                             Super Mario World     SNES  1990.0   \n",
       "19    20  Brain Age: Train Your Brain in Minutes a Day       DS  2005.0   \n",
       "\n",
       "           Genre               Publisher  NA_Sales  EU_Sales  JP_Sales  \\\n",
       "0         Sports                Nintendo     41.49     29.02      3.77   \n",
       "1       Platform                Nintendo     29.08      3.58      6.81   \n",
       "2         Racing                Nintendo     15.85     12.88      3.79   \n",
       "3         Sports                Nintendo     15.75     11.01      3.28   \n",
       "4   Role-Playing                Nintendo     11.27      8.89     10.22   \n",
       "5         Puzzle                Nintendo     23.20      2.26      4.22   \n",
       "6       Platform                Nintendo     11.38      9.23      6.50   \n",
       "7           Misc                Nintendo     14.03      9.20      2.93   \n",
       "8       Platform                Nintendo     14.59      7.06      4.70   \n",
       "9        Shooter                Nintendo     26.93      0.63      0.28   \n",
       "10    Simulation                Nintendo      9.07     11.00      1.93   \n",
       "11        Racing                Nintendo      9.81      7.57      4.13   \n",
       "12  Role-Playing                Nintendo      9.00      6.18      7.20   \n",
       "13        Sports                Nintendo      8.94      8.03      3.60   \n",
       "14        Sports                Nintendo      9.09      8.59      2.53   \n",
       "15          Misc  Microsoft Game Studios     14.97      4.94      0.24   \n",
       "16        Action    Take-Two Interactive      7.01      9.27      0.97   \n",
       "17        Action    Take-Two Interactive      9.43      0.40      0.41   \n",
       "18      Platform                Nintendo     12.78      3.75      3.54   \n",
       "19          Misc                Nintendo      4.75      9.26      4.16   \n",
       "\n",
       "    Other_Sales  Global_Sales  \n",
       "0          8.46         82.74  \n",
       "1          0.77         40.24  \n",
       "2          3.31         35.82  \n",
       "3          2.96         33.00  \n",
       "4          1.00         31.37  \n",
       "5          0.58         30.26  \n",
       "6          2.90         30.01  \n",
       "7          2.85         29.02  \n",
       "8          2.26         28.62  \n",
       "9          0.47         28.31  \n",
       "10         2.75         24.76  \n",
       "11         1.92         23.42  \n",
       "12         0.71         23.10  \n",
       "13         2.15         22.72  \n",
       "14         1.79         22.00  \n",
       "15         1.67         21.82  \n",
       "16         4.14         21.40  \n",
       "17        10.57         20.81  \n",
       "18         0.55         20.61  \n",
       "19         2.05         20.22  "
      ]
     },
     "execution_count": 2,
     "metadata": {},
     "output_type": "execute_result"
    }
   ],
   "source": [
    "df1 = pd.read_csv('./vgsales.csv')\n",
    "print(df1.info())\n",
    "df1.head(20)"
   ]
  },
  {
   "cell_type": "markdown",
   "metadata": {},
   "source": [
    "通过表格数据可以看到，只有年份和发行商这两列数据有缺失且缺失的不多，考虑将缺失行直接剔除来进行缺失数据处理"
   ]
  },
  {
   "cell_type": "code",
   "execution_count": 3,
   "metadata": {},
   "outputs": [
    {
     "name": "stdout",
     "output_type": "stream",
     "text": [
      "<class 'pandas.core.frame.DataFrame'>\n",
      "Int64Index: 16291 entries, 0 to 16597\n",
      "Data columns (total 11 columns):\n",
      " #   Column        Non-Null Count  Dtype  \n",
      "---  ------        --------------  -----  \n",
      " 0   Rank          16291 non-null  int64  \n",
      " 1   Name          16291 non-null  object \n",
      " 2   Platform      16291 non-null  object \n",
      " 3   Year          16291 non-null  float64\n",
      " 4   Genre         16291 non-null  object \n",
      " 5   Publisher     16291 non-null  object \n",
      " 6   NA_Sales      16291 non-null  float64\n",
      " 7   EU_Sales      16291 non-null  float64\n",
      " 8   JP_Sales      16291 non-null  float64\n",
      " 9   Other_Sales   16291 non-null  float64\n",
      " 10  Global_Sales  16291 non-null  float64\n",
      "dtypes: float64(6), int64(1), object(4)\n",
      "memory usage: 1.5+ MB\n"
     ]
    }
   ],
   "source": [
    "df1.dropna(inplace=True)\n",
    "df1.info()"
   ]
  },
  {
   "cell_type": "markdown",
   "metadata": {},
   "source": [
    "查看标称属性的信息"
   ]
  },
  {
   "cell_type": "code",
   "execution_count": 4,
   "metadata": {},
   "outputs": [
    {
     "data": {
      "text/html": [
       "<div>\n",
       "<style scoped>\n",
       "    .dataframe tbody tr th:only-of-type {\n",
       "        vertical-align: middle;\n",
       "    }\n",
       "\n",
       "    .dataframe tbody tr th {\n",
       "        vertical-align: top;\n",
       "    }\n",
       "\n",
       "    .dataframe thead th {\n",
       "        text-align: right;\n",
       "    }\n",
       "</style>\n",
       "<table border=\"1\" class=\"dataframe\">\n",
       "  <thead>\n",
       "    <tr style=\"text-align: right;\">\n",
       "      <th></th>\n",
       "      <th>count</th>\n",
       "      <th>unique</th>\n",
       "      <th>top</th>\n",
       "      <th>freq</th>\n",
       "    </tr>\n",
       "  </thead>\n",
       "  <tbody>\n",
       "    <tr>\n",
       "      <th>Name</th>\n",
       "      <td>16291</td>\n",
       "      <td>11325</td>\n",
       "      <td>Need for Speed: Most Wanted</td>\n",
       "      <td>12</td>\n",
       "    </tr>\n",
       "    <tr>\n",
       "      <th>Platform</th>\n",
       "      <td>16291</td>\n",
       "      <td>31</td>\n",
       "      <td>DS</td>\n",
       "      <td>2131</td>\n",
       "    </tr>\n",
       "    <tr>\n",
       "      <th>Genre</th>\n",
       "      <td>16291</td>\n",
       "      <td>12</td>\n",
       "      <td>Action</td>\n",
       "      <td>3251</td>\n",
       "    </tr>\n",
       "    <tr>\n",
       "      <th>Publisher</th>\n",
       "      <td>16291</td>\n",
       "      <td>576</td>\n",
       "      <td>Electronic Arts</td>\n",
       "      <td>1339</td>\n",
       "    </tr>\n",
       "  </tbody>\n",
       "</table>\n",
       "</div>"
      ],
      "text/plain": [
       "           count unique                          top  freq\n",
       "Name       16291  11325  Need for Speed: Most Wanted    12\n",
       "Platform   16291     31                           DS  2131\n",
       "Genre      16291     12                       Action  3251\n",
       "Publisher  16291    576              Electronic Arts  1339"
      ]
     },
     "execution_count": 4,
     "metadata": {},
     "output_type": "execute_result"
    }
   ],
   "source": [
    "df1.describe(include='object').T "
   ]
  },
  {
   "cell_type": "markdown",
   "metadata": {},
   "source": [
    "查看数值属性的信息"
   ]
  },
  {
   "cell_type": "code",
   "execution_count": 5,
   "metadata": {},
   "outputs": [
    {
     "data": {
      "text/html": [
       "<div>\n",
       "<style scoped>\n",
       "    .dataframe tbody tr th:only-of-type {\n",
       "        vertical-align: middle;\n",
       "    }\n",
       "\n",
       "    .dataframe tbody tr th {\n",
       "        vertical-align: top;\n",
       "    }\n",
       "\n",
       "    .dataframe thead th {\n",
       "        text-align: right;\n",
       "    }\n",
       "</style>\n",
       "<table border=\"1\" class=\"dataframe\">\n",
       "  <thead>\n",
       "    <tr style=\"text-align: right;\">\n",
       "      <th></th>\n",
       "      <th>count</th>\n",
       "      <th>mean</th>\n",
       "      <th>std</th>\n",
       "      <th>min</th>\n",
       "      <th>25%</th>\n",
       "      <th>50%</th>\n",
       "      <th>75%</th>\n",
       "      <th>max</th>\n",
       "    </tr>\n",
       "  </thead>\n",
       "  <tbody>\n",
       "    <tr>\n",
       "      <th>Year</th>\n",
       "      <td>16291.0</td>\n",
       "      <td>2006.405561</td>\n",
       "      <td>5.832412</td>\n",
       "      <td>1980.00</td>\n",
       "      <td>2003.00</td>\n",
       "      <td>2007.00</td>\n",
       "      <td>2010.00</td>\n",
       "      <td>2020.00</td>\n",
       "    </tr>\n",
       "    <tr>\n",
       "      <th>NA_Sales</th>\n",
       "      <td>16291.0</td>\n",
       "      <td>0.265647</td>\n",
       "      <td>0.822432</td>\n",
       "      <td>0.00</td>\n",
       "      <td>0.00</td>\n",
       "      <td>0.08</td>\n",
       "      <td>0.24</td>\n",
       "      <td>41.49</td>\n",
       "    </tr>\n",
       "    <tr>\n",
       "      <th>EU_Sales</th>\n",
       "      <td>16291.0</td>\n",
       "      <td>0.147731</td>\n",
       "      <td>0.509303</td>\n",
       "      <td>0.00</td>\n",
       "      <td>0.00</td>\n",
       "      <td>0.02</td>\n",
       "      <td>0.11</td>\n",
       "      <td>29.02</td>\n",
       "    </tr>\n",
       "    <tr>\n",
       "      <th>JP_Sales</th>\n",
       "      <td>16291.0</td>\n",
       "      <td>0.078833</td>\n",
       "      <td>0.311879</td>\n",
       "      <td>0.00</td>\n",
       "      <td>0.00</td>\n",
       "      <td>0.00</td>\n",
       "      <td>0.04</td>\n",
       "      <td>10.22</td>\n",
       "    </tr>\n",
       "    <tr>\n",
       "      <th>Other_Sales</th>\n",
       "      <td>16291.0</td>\n",
       "      <td>0.048426</td>\n",
       "      <td>0.190083</td>\n",
       "      <td>0.00</td>\n",
       "      <td>0.00</td>\n",
       "      <td>0.01</td>\n",
       "      <td>0.04</td>\n",
       "      <td>10.57</td>\n",
       "    </tr>\n",
       "    <tr>\n",
       "      <th>Global_Sales</th>\n",
       "      <td>16291.0</td>\n",
       "      <td>0.540910</td>\n",
       "      <td>1.567345</td>\n",
       "      <td>0.01</td>\n",
       "      <td>0.06</td>\n",
       "      <td>0.17</td>\n",
       "      <td>0.48</td>\n",
       "      <td>82.74</td>\n",
       "    </tr>\n",
       "  </tbody>\n",
       "</table>\n",
       "</div>"
      ],
      "text/plain": [
       "                count         mean       std      min      25%      50%  \\\n",
       "Year          16291.0  2006.405561  5.832412  1980.00  2003.00  2007.00   \n",
       "NA_Sales      16291.0     0.265647  0.822432     0.00     0.00     0.08   \n",
       "EU_Sales      16291.0     0.147731  0.509303     0.00     0.00     0.02   \n",
       "JP_Sales      16291.0     0.078833  0.311879     0.00     0.00     0.00   \n",
       "Other_Sales   16291.0     0.048426  0.190083     0.00     0.00     0.01   \n",
       "Global_Sales  16291.0     0.540910  1.567345     0.01     0.06     0.17   \n",
       "\n",
       "                  75%      max  \n",
       "Year          2010.00  2020.00  \n",
       "NA_Sales         0.24    41.49  \n",
       "EU_Sales         0.11    29.02  \n",
       "JP_Sales         0.04    10.22  \n",
       "Other_Sales      0.04    10.57  \n",
       "Global_Sales     0.48    82.74  "
      ]
     },
     "execution_count": 5,
     "metadata": {},
     "output_type": "execute_result"
    }
   ],
   "source": [
    "df1.describe(include='float64').T "
   ]
  },
  {
   "cell_type": "markdown",
   "metadata": {},
   "source": [
    "查看总销量排名前十的游戏，通过总销量查看哪些游戏受欢迎"
   ]
  },
  {
   "cell_type": "code",
   "execution_count": 6,
   "metadata": {},
   "outputs": [
    {
     "name": "stdout",
     "output_type": "stream",
     "text": [
      "                                NA_Sales  EU_Sales  JP_Sales  Other_Sales  \\\n",
      "Name                                                                        \n",
      "Wii Sports                         41.49     29.02      3.77         8.46   \n",
      "Grand Theft Auto V                 23.46     23.04      1.39         8.03   \n",
      "Super Mario Bros.                  32.48      4.88      6.96         0.99   \n",
      "Tetris                             26.17      2.95      6.03         0.69   \n",
      "Mario Kart Wii                     15.85     12.88      3.79         3.31   \n",
      "Wii Sports Resort                  15.75     11.01      3.28         2.96   \n",
      "Pokemon Red/Pokemon Blue           11.27      8.89     10.22         1.00   \n",
      "Call of Duty: Modern Warfare 3     15.58     11.29      0.62         3.35   \n",
      "New Super Mario Bros.              11.38      9.23      6.50         2.90   \n",
      "Call of Duty: Black Ops II         14.08     11.05      0.72         3.88   \n",
      "\n",
      "                                Global_Sales  \n",
      "Name                                          \n",
      "Wii Sports                             82.74  \n",
      "Grand Theft Auto V                     55.92  \n",
      "Super Mario Bros.                      45.31  \n",
      "Tetris                                 35.84  \n",
      "Mario Kart Wii                         35.82  \n",
      "Wii Sports Resort                      33.00  \n",
      "Pokemon Red/Pokemon Blue               31.37  \n",
      "Call of Duty: Modern Warfare 3         30.83  \n",
      "New Super Mario Bros.                  30.01  \n",
      "Call of Duty: Black Ops II             29.72  \n"
     ]
    }
   ],
   "source": [
    "df2=df1[['Name','NA_Sales','EU_Sales','JP_Sales','Other_Sales','Global_Sales']]\n",
    "topGolobalsales = df2.groupby('Name').sum().sort_values('Global_Sales',ascending = False).head(10)\n",
    "print(topGolobalsales)"
   ]
  },
  {
   "cell_type": "markdown",
   "metadata": {},
   "source": [
    "将这些受欢迎的游戏的销量可视化"
   ]
  },
  {
   "cell_type": "code",
   "execution_count": 7,
   "metadata": {},
   "outputs": [
    {
     "data": {
      "image/png": "[encoded data removed]",
      "text/plain": [
       "<Figure size 1440x720 with 1 Axes>"
      ]
     },
     "metadata": {
      "needs_background": "light"
     },
     "output_type": "display_data"
    }
   ],
   "source": [
    "y=topGolobalsales['Global_Sales'].values[::-1]\n",
    "x=topGolobalsales.index.values[::-1]\n",
    "plt.figure(figsize=(20,10))\n",
    "plt.rcParams['font.sans-serif']=['SimHei']\n",
    "plt.rcParams['axes.unicode_minus'] = False\n",
    "plt.xlabel(\"全球销售额\",fontdict={'weight':'normal','size':20})\n",
    "plt.ylabel(\"游戏名\",fontdict={'weight':'normal','size':20})\n",
    "plt.tick_params(labelsize = 13)\n",
    "plt.barh(x,y)\n",
    "plt.show()"
   ]
  },
  {
   "cell_type": "markdown",
   "metadata": {},
   "source": [
    "查看总销量排名前十的平台，通过总销量查看哪些平台受欢迎"
   ]
  },
  {
   "cell_type": "code",
   "execution_count": 8,
   "metadata": {},
   "outputs": [
    {
     "name": "stdout",
     "output_type": "stream",
     "text": [
      "                                NA_Sales  EU_Sales  JP_Sales  Other_Sales  \\\n",
      "Name                                                                        \n",
      "Wii Sports                         41.49     29.02      3.77         8.46   \n",
      "Grand Theft Auto V                 23.46     23.04      1.39         8.03   \n",
      "Super Mario Bros.                  32.48      4.88      6.96         0.99   \n",
      "Tetris                             26.17      2.95      6.03         0.69   \n",
      "Mario Kart Wii                     15.85     12.88      3.79         3.31   \n",
      "Wii Sports Resort                  15.75     11.01      3.28         2.96   \n",
      "Pokemon Red/Pokemon Blue           11.27      8.89     10.22         1.00   \n",
      "Call of Duty: Modern Warfare 3     15.58     11.29      0.62         3.35   \n",
      "New Super Mario Bros.              11.38      9.23      6.50         2.90   \n",
      "Call of Duty: Black Ops II         14.08     11.05      0.72         3.88   \n",
      "\n",
      "                                Global_Sales  \n",
      "Name                                          \n",
      "Wii Sports                             82.74  \n",
      "Grand Theft Auto V                     55.92  \n",
      "Super Mario Bros.                      45.31  \n",
      "Tetris                                 35.84  \n",
      "Mario Kart Wii                         35.82  \n",
      "Wii Sports Resort                      33.00  \n",
      "Pokemon Red/Pokemon Blue               31.37  \n",
      "Call of Duty: Modern Warfare 3         30.83  \n",
      "New Super Mario Bros.                  30.01  \n",
      "Call of Duty: Black Ops II             29.72  \n"
     ]
    }
   ],
   "source": [
    "df3=df1[['Platform','NA_Sales','EU_Sales','JP_Sales','Other_Sales','Global_Sales']]\n",
    "topPlatform = df3.groupby('Platform').sum().sort_values('Global_Sales',ascending = False).head(10)\n",
    "print(topGolobalsales)"
   ]
  },
  {
   "cell_type": "markdown",
   "metadata": {},
   "source": [
    "将这些平台的游戏销量可视化"
   ]
  },
  {
   "cell_type": "code",
   "execution_count": 9,
   "metadata": {},
   "outputs": [
    {
     "data": {
      "image/png": "[encoded data removed]",
      "text/plain": [
       "<Figure size 1440x720 with 1 Axes>"
      ]
     },
     "metadata": {
      "needs_background": "light"
     },
     "output_type": "display_data"
    }
   ],
   "source": [
    "y=topPlatform['Global_Sales'].values[::-1]\n",
    "x=topPlatform.index.values[::-1]\n",
    "plt.figure(figsize=(20,10))\n",
    "plt.rcParams['font.sans-serif']=['SimHei']\n",
    "plt.rcParams['axes.unicode_minus'] = False\n",
    "plt.xlabel(\"全球销售额\",fontdict={'weight':'normal','size':20})\n",
    "plt.ylabel(\"平台名\",fontdict={'weight':'normal','size':20})\n",
    "plt.tick_params(labelsize = 13)\n",
    "plt.barh(x,y)\n",
    "plt.show()"
   ]
  },
  {
   "cell_type": "markdown",
   "metadata": {},
   "source": [
    "查看总销量排名前十的游戏类型，通过总销量查看哪些类型的游戏受欢迎"
   ]
  },
  {
   "cell_type": "code",
   "execution_count": 10,
   "metadata": {},
   "outputs": [
    {
     "name": "stdout",
     "output_type": "stream",
     "text": [
      "              NA_Sales  EU_Sales  JP_Sales  Other_Sales  Global_Sales\n",
      "Genre                                                                \n",
      "Action          861.77    516.48    158.65       184.92       1722.84\n",
      "Sports          670.09    371.34    134.76       132.65       1309.24\n",
      "Shooter         575.16    310.45     38.18       101.90       1026.20\n",
      "Role-Playing    326.50    187.57    350.29        59.38        923.83\n",
      "Platform        445.99    200.65    130.65        51.51        829.13\n",
      "Misc            396.92    211.77    106.67        73.92        789.87\n",
      "Racing          356.93    236.31     56.61        76.68        726.76\n",
      "Fighting        220.74    100.00     87.15        36.19        444.05\n",
      "Simulation      181.78    113.02     63.54        31.36        389.98\n",
      "Puzzle          122.01     50.52     56.68        12.47        242.21\n"
     ]
    }
   ],
   "source": [
    "df4=df1[['Genre','NA_Sales','EU_Sales','JP_Sales','Other_Sales','Global_Sales']]\n",
    "topGenre = df4.groupby('Genre').sum().sort_values('Global_Sales',ascending = False).head(10)\n",
    "print(topGenre)"
   ]
  },
  {
   "cell_type": "markdown",
   "metadata": {},
   "source": [
    "从表中可以看到，动作、运动、射击类的游戏比较受欢迎，现在将这些游戏类型销量可视化"
   ]
  },
  {
   "cell_type": "code",
   "execution_count": 11,
   "metadata": {},
   "outputs": [
    {
     "data": {
      "image/png": "[encoded data removed]",
      "text/plain": [
       "<Figure size 1440x720 with 1 Axes>"
      ]
     },
     "metadata": {
      "needs_background": "light"
     },
     "output_type": "display_data"
    }
   ],
   "source": [
    "y=topGenre['Global_Sales'].values[::-1]\n",
    "x=topGenre.index.values[::-1]\n",
    "plt.figure(figsize=(20,10))\n",
    "plt.rcParams['font.sans-serif']=['SimHei']\n",
    "plt.rcParams['axes.unicode_minus'] = False\n",
    "plt.xlabel(\"全球销售额\",fontdict={'weight':'normal','size':20})\n",
    "plt.ylabel(\"游戏类型\",fontdict={'weight':'normal','size':20})\n",
    "plt.tick_params(labelsize = 13)\n",
    "plt.barh(x,y)\n",
    "plt.show()"
   ]
  },
  {
   "cell_type": "markdown",
   "metadata": {},
   "source": [
    "查看总销量排名前十的发行商，通过总销量查看哪些发行商受欢迎"
   ]
  },
  {
   "cell_type": "code",
   "execution_count": 12,
   "metadata": {},
   "outputs": [
    {
     "name": "stdout",
     "output_type": "stream",
     "text": [
      "                              NA_Sales  EU_Sales  JP_Sales  Other_Sales  \\\n",
      "Publisher                                                                 \n",
      "Nintendo                        815.75    418.30    454.99        95.19   \n",
      "Electronic Arts                 584.22    367.38     13.98       127.63   \n",
      "Activision                      426.01    213.72      6.54        74.79   \n",
      "Sony Computer Entertainment     265.22    187.55     74.10        80.40   \n",
      "Ubisoft                         252.81    163.03      7.33        50.16   \n",
      "Take-Two Interactive            220.47    117.95      5.83        55.20   \n",
      "THQ                             208.60     94.60      5.01        32.11   \n",
      "Konami Digital Entertainment     88.91     68.62     90.93        29.91   \n",
      "Sega                            108.78     81.41     56.19        24.30   \n",
      "Namco Bandai Games               69.38     42.61    126.84        14.64   \n",
      "\n",
      "                              Global_Sales  \n",
      "Publisher                                   \n",
      "Nintendo                           1784.43  \n",
      "Electronic Arts                    1093.39  \n",
      "Activision                          721.41  \n",
      "Sony Computer Entertainment         607.28  \n",
      "Ubisoft                             473.54  \n",
      "Take-Two Interactive                399.30  \n",
      "THQ                                 340.44  \n",
      "Konami Digital Entertainment        278.56  \n",
      "Sega                                270.70  \n",
      "Namco Bandai Games                  253.65  \n"
     ]
    }
   ],
   "source": [
    "df5=df1[['Publisher','NA_Sales','EU_Sales','JP_Sales','Other_Sales','Global_Sales']]\n",
    "topPublisher = df5.groupby('Publisher').sum().sort_values('Global_Sales',ascending = False).head(10)\n",
    "print(topPublisher)"
   ]
  },
  {
   "cell_type": "markdown",
   "metadata": {},
   "source": [
    "从表中可以发现任天堂、EA、动视、索尼、育碧这些游戏发行商比较热门，将这些发行商的销量可视化"
   ]
  },
  {
   "cell_type": "code",
   "execution_count": 13,
   "metadata": {},
   "outputs": [
    {
     "data": {
      "image/png": "[encoded data removed]",
      "text/plain": [
       "<Figure size 1440x720 with 1 Axes>"
      ]
     },
     "metadata": {
      "needs_background": "light"
     },
     "output_type": "display_data"
    }
   ],
   "source": [
    "y=topPublisher['Global_Sales'].values[::-1]\n",
    "x=topPublisher.index.values[::-1]\n",
    "plt.figure(figsize=(20,10))\n",
    "plt.rcParams['font.sans-serif']=['SimHei']\n",
    "plt.rcParams['axes.unicode_minus'] = False\n",
    "plt.xlabel(\"全球销售额\",fontdict={'weight':'normal','size':20})\n",
    "plt.ylabel(\"游戏发行商\",fontdict={'weight':'normal','size':20})\n",
    "plt.tick_params(labelsize = 13)\n",
    "plt.barh(x,y)\n",
    "plt.show()"
   ]
  },
  {
   "cell_type": "markdown",
   "metadata": {},
   "source": [
    "根据以往的游戏销售额预测未来几年内的游戏销售情况,首先查看游戏销售量的走势图以预估游戏销量大致符合一个什么样的函数"
   ]
  },
  {
   "cell_type": "code",
   "execution_count": 16,
   "metadata": {},
   "outputs": [
    {
     "data": {
      "image/png": "[encoded data removed]",
      "text/plain": [
       "<Figure size 1296x216 with 1 Axes>"
      ]
     },
     "metadata": {
      "needs_background": "light"
     },
     "output_type": "display_data"
    }
   ],
   "source": [
    "y = df1.groupby('Year').sum()['Global_Sales'].values.reshape([39,1])\n",
    "x = np.array(list(df1.groupby('Year').groups.keys())).reshape([39,1])\n",
    "plt.figure(figsize=(18,3))\n",
    "plt.xlabel(\"年份\",fontdict={'weight':'normal','size': 20})\n",
    "plt.ylabel(\"全球销售额\",fontdict={'weight':'normal','size': 20})\n",
    "plt.tick_params(labelsize=13)\n",
    "ax=plt.gca()\n",
    "plt.xticks(rotation=60)\n",
    "x_major_locator=plt.MultipleLocator(1)\n",
    "ax.xaxis.set_major_locator(x_major_locator)\n",
    "plt.plot(x, y)\n",
    "plt.title('全球销售额预测',fontdict={'weight':'normal','size': 20})\n",
    "plt.show()"
   ]
  },
  {
   "cell_type": "markdown",
   "metadata": {},
   "source": [
    "从表中数据可以看出，销售额的曲线在1980-2008年都在上升，后续则在下降，但我认为游戏市场一定会再度反弹，且2017-2020数据量太少不具有参考价值，因此我认为未来游戏销量可能呈上升趋势，因此我简单使用线性函数进行拟合。"
   ]
  },
  {
   "cell_type": "code",
   "execution_count": 26,
   "metadata": {},
   "outputs": [],
   "source": [
    "y = df1.groupby('Year').sum()['Global_Sales'].values.reshape([39,1])\n",
    "x = np.array(list(df1.groupby('Year').groups.keys())).reshape([39,1])\n",
    "from sklearn import linear_model\n",
    "# 建立线性模型预测全球销售额\n",
    "model = linear_model.LinearRegression()\n",
    "model.fit(x,y)\n",
    "test = np.array([2021.0,2022.0,2023.0,2024.0,2025.0,2026.0]).reshape([6,1])\n",
    "pre_y = model.predict(test)"
   ]
  },
  {
   "cell_type": "code",
   "execution_count": 27,
   "metadata": {},
   "outputs": [
    {
     "data": {
      "image/png": "[encoded data removed]",
      "text/plain": [
       "<Figure size 1296x216 with 1 Axes>"
      ]
     },
     "metadata": {
      "needs_background": "light"
     },
     "output_type": "display_data"
    }
   ],
   "source": [
    "y = np.concatenate((y,pre_y))\n",
    "x = np.concatenate((x,test))\n",
    "plt.figure(figsize=(18,3))\n",
    "plt.xlabel(\"年份\",fontdict={'weight':'normal','size': 20})\n",
    "plt.ylabel(\"全球销售额\",fontdict={'weight':'normal','size': 20})\n",
    "plt.tick_params(labelsize=13)\n",
    "ax=plt.gca()\n",
    "plt.xticks(rotation=60)\n",
    "x_major_locator=plt.MultipleLocator(1)\n",
    "ax.xaxis.set_major_locator(x_major_locator)\n",
    "plt.plot(x, y)\n",
    "plt.title('全球销售额预测',fontdict={'weight':'normal','size': 20})\n",
    "plt.show()"
   ]
  },
  {
   "cell_type": "code",
   "execution_count": null,
   "metadata": {},
   "outputs": [],
   "source": []
  }
 ],
 "metadata": {
  "kernelspec": {
   "display_name": "Python 3",
   "language": "python",
   "name": "python3"
  },
  "language_info": {
   "codemirror_mode": {
    "name": "ipython",
    "version": 3
   },
   "file_extension": ".py",
   "mimetype": "text/x-python",
   "name": "python",
   "nbconvert_exporter": "python",
   "pygments_lexer": "ipython3",
   "version": "3.7.6"
  }
 },
 "nbformat": 4,
 "nbformat_minor": 4
}
